{
 "cells": [
  {
   "cell_type": "code",
   "execution_count": 1,
   "id": "c498bd77",
   "metadata": {},
   "outputs": [],
   "source": [
    "import torch"
   ]
  },
  {
   "cell_type": "code",
   "execution_count": 5,
   "id": "69f8be62",
   "metadata": {},
   "outputs": [
    {
     "data": {
      "text/plain": [
       "'cpu'"
      ]
     },
     "execution_count": 5,
     "metadata": {},
     "output_type": "execute_result"
    }
   ],
   "source": [
    "device = 'cuda' if torch.cuda.is_available() else \"cpu\"\n",
    "device"
   ]
  },
  {
   "cell_type": "code",
   "execution_count": 7,
   "id": "5b38a28d",
   "metadata": {},
   "outputs": [
    {
     "data": {
      "text/plain": [
       "tensor([[1., 4.],\n",
       "        [2., 5.]])"
      ]
     },
     "execution_count": 7,
     "metadata": {},
     "output_type": "execute_result"
    }
   ],
   "source": [
    "my_tensor = torch.tensor([[1,4],[2,5]], dtype = torch.float32,device=device)\n",
    "my_tensor"
   ]
  },
  {
   "cell_type": "code",
   "execution_count": 10,
   "id": "1c49534e",
   "metadata": {},
   "outputs": [
    {
     "data": {
      "text/plain": [
       "(2,\n",
       " torch.float32,\n",
       " device(type='cpu'),\n",
       " torch.Size([2, 2]),\n",
       " <function Tensor.size>)"
      ]
     },
     "execution_count": 10,
     "metadata": {},
     "output_type": "execute_result"
    }
   ],
   "source": [
    "my_tensor.ndim, my_tensor.dtype,my_tensor.device,my_tensor.shape,my_tensor.size"
   ]
  },
  {
   "cell_type": "code",
   "execution_count": 12,
   "id": "a29884e8",
   "metadata": {},
   "outputs": [
    {
     "data": {
      "text/plain": [
       "tensor([[8.3966e-07, 5.2898e-08, 4.3201e-05],\n",
       "        [2.1495e-04, 1.0487e+21, 8.3084e-10]])"
      ]
     },
     "execution_count": 12,
     "metadata": {},
     "output_type": "execute_result"
    }
   ],
   "source": [
    "x = torch.empty((2,3))\n",
    "x"
   ]
  },
  {
   "cell_type": "code",
   "execution_count": 14,
   "id": "67d08f43",
   "metadata": {},
   "outputs": [
    {
     "data": {
      "text/plain": [
       "tensor([[0., 0., 0.],\n",
       "        [0., 0., 0.],\n",
       "        [0., 0., 0.]])"
      ]
     },
     "execution_count": 14,
     "metadata": {},
     "output_type": "execute_result"
    }
   ],
   "source": [
    "y = torch.zeros((3,3))\n",
    "y"
   ]
  },
  {
   "cell_type": "code",
   "execution_count": 15,
   "id": "02c6d82d",
   "metadata": {},
   "outputs": [
    {
     "data": {
      "text/plain": [
       "tensor([[1., 1., 1.],\n",
       "        [1., 1., 1.]])"
      ]
     },
     "execution_count": 15,
     "metadata": {},
     "output_type": "execute_result"
    }
   ],
   "source": [
    "o = torch.ones((2,3))\n",
    "o"
   ]
  },
  {
   "cell_type": "code",
   "execution_count": 17,
   "id": "1a6a2979",
   "metadata": {},
   "outputs": [
    {
     "data": {
      "text/plain": [
       "tensor([[ 0.5308, -0.0055],\n",
       "        [ 0.8271, -1.0454],\n",
       "        [-0.6789,  0.1636]])"
      ]
     },
     "execution_count": 17,
     "metadata": {},
     "output_type": "execute_result"
    }
   ],
   "source": [
    "randoms = torch.randn((3,2))\n",
    "randoms"
   ]
  },
  {
   "cell_type": "code",
   "execution_count": 19,
   "id": "e6d7a9d7",
   "metadata": {},
   "outputs": [
    {
     "data": {
      "text/plain": [
       "tensor([[1., 0., 0.],\n",
       "        [0., 1., 0.],\n",
       "        [0., 0., 1.]])"
      ]
     },
     "execution_count": 19,
     "metadata": {},
     "output_type": "execute_result"
    }
   ],
   "source": [
    "diag_matrix=torch.eye(3,3)\n",
    "diag_matrix"
   ]
  },
  {
   "cell_type": "code",
   "execution_count": 20,
   "id": "09d674cb",
   "metadata": {},
   "outputs": [
    {
     "data": {
      "text/plain": [
       "tensor([1, 2, 3, 4])"
      ]
     },
     "execution_count": 20,
     "metadata": {},
     "output_type": "execute_result"
    }
   ],
   "source": [
    "torch.arange(start=1,end=5, step=1)"
   ]
  },
  {
   "cell_type": "code",
   "execution_count": 23,
   "id": "8464aa0a",
   "metadata": {},
   "outputs": [
    {
     "data": {
      "text/plain": [
       "tensor([0.1000, 0.3111, 0.5222, 0.7333, 0.9444, 1.1556, 1.3667, 1.5778, 1.7889,\n",
       "        2.0000])"
      ]
     },
     "execution_count": 23,
     "metadata": {},
     "output_type": "execute_result"
    }
   ],
   "source": [
    "torch.linspace(start=0.1,end=2,steps=10)"
   ]
  },
  {
   "cell_type": "code",
   "execution_count": 24,
   "id": "9903e899",
   "metadata": {},
   "outputs": [
    {
     "data": {
      "text/plain": [
       "tensor([[ 0.4583,  0.0274,  0.9185, -1.3422, -0.2874],\n",
       "        [-0.1798,  0.0487, -0.1626,  0.9382, -0.8184]])"
      ]
     },
     "execution_count": 24,
     "metadata": {},
     "output_type": "execute_result"
    }
   ],
   "source": [
    "torch.empty((2,5)).normal_(mean=0,std=1)"
   ]
  },
  {
   "cell_type": "code",
   "execution_count": 26,
   "id": "6d3b9471",
   "metadata": {},
   "outputs": [
    {
     "data": {
      "text/plain": [
       "tensor([[0.5308, 0.8261, 0.3960, 0.5801, 0.9603],\n",
       "        [0.5449, 0.4943, 0.8511, 0.9417, 0.0282]])"
      ]
     },
     "execution_count": 26,
     "metadata": {},
     "output_type": "execute_result"
    }
   ],
   "source": [
    "torch.empty((2,5)).uniform_(0,1)"
   ]
  },
  {
   "cell_type": "code",
   "execution_count": 28,
   "id": "dac392ff",
   "metadata": {},
   "outputs": [
    {
     "data": {
      "text/plain": [
       "tensor([[-0.8158,  0.0000,  0.0000],\n",
       "        [ 0.0000,  0.4763,  0.0000],\n",
       "        [ 0.0000,  0.0000,  0.6569]])"
      ]
     },
     "execution_count": 28,
     "metadata": {},
     "output_type": "execute_result"
    }
   ],
   "source": [
    "torch.diag(torch.randn(3))"
   ]
  },
  {
   "cell_type": "markdown",
   "id": "f3a5580d",
   "metadata": {},
   "source": [
    "# initialize a tensor and convert to different types"
   ]
  },
  {
   "cell_type": "code",
   "execution_count": 29,
   "id": "85b05534",
   "metadata": {},
   "outputs": [
    {
     "data": {
      "text/plain": [
       "torch.int64"
      ]
     },
     "execution_count": 29,
     "metadata": {},
     "output_type": "execute_result"
    }
   ],
   "source": [
    "tensor = torch.arange(5)\n",
    "tensor.dtype"
   ]
  },
  {
   "cell_type": "code",
   "execution_count": 31,
   "id": "c9113d68",
   "metadata": {},
   "outputs": [
    {
     "data": {
      "text/plain": [
       "tensor([False,  True,  True,  True,  True])"
      ]
     },
     "execution_count": 31,
     "metadata": {},
     "output_type": "execute_result"
    }
   ],
   "source": [
    "tensor.bool()"
   ]
  },
  {
   "cell_type": "code",
   "execution_count": 32,
   "id": "0b07bea9",
   "metadata": {},
   "outputs": [
    {
     "data": {
      "text/plain": [
       "tensor([0, 1, 2, 3, 4], dtype=torch.int16)"
      ]
     },
     "execution_count": 32,
     "metadata": {},
     "output_type": "execute_result"
    }
   ],
   "source": [
    "tensor.short()"
   ]
  },
  {
   "cell_type": "code",
   "execution_count": 34,
   "id": "e6be4782",
   "metadata": {},
   "outputs": [
    {
     "data": {
      "text/plain": [
       "torch.int64"
      ]
     },
     "execution_count": 34,
     "metadata": {},
     "output_type": "execute_result"
    }
   ],
   "source": [
    "tensor.long().dtype"
   ]
  },
  {
   "cell_type": "code",
   "execution_count": 36,
   "id": "d77e2173",
   "metadata": {},
   "outputs": [
    {
     "data": {
      "text/plain": [
       "tensor([0., 1., 2., 3., 4.], dtype=torch.float16)"
      ]
     },
     "execution_count": 36,
     "metadata": {},
     "output_type": "execute_result"
    }
   ],
   "source": [
    "tensor.half()"
   ]
  },
  {
   "cell_type": "code",
   "execution_count": 38,
   "id": "840adc98",
   "metadata": {},
   "outputs": [
    {
     "data": {
      "text/plain": [
       "torch.float32"
      ]
     },
     "execution_count": 38,
     "metadata": {},
     "output_type": "execute_result"
    }
   ],
   "source": [
    "tensor.float().dtype"
   ]
  },
  {
   "cell_type": "code",
   "execution_count": 39,
   "id": "b3a86b5b",
   "metadata": {},
   "outputs": [
    {
     "data": {
      "text/plain": [
       "tensor([0., 1., 2., 3., 4.], dtype=torch.float64)"
      ]
     },
     "execution_count": 39,
     "metadata": {},
     "output_type": "execute_result"
    }
   ],
   "source": [
    "tensor.double()"
   ]
  },
  {
   "cell_type": "markdown",
   "id": "42739f80",
   "metadata": {},
   "source": [
    "# Array to tensor"
   ]
  },
  {
   "cell_type": "code",
   "execution_count": 40,
   "id": "7326a349",
   "metadata": {},
   "outputs": [
    {
     "data": {
      "text/plain": [
       "array([[0., 0., 0., 0., 0.],\n",
       "       [0., 0., 0., 0., 0.],\n",
       "       [0., 0., 0., 0., 0.],\n",
       "       [0., 0., 0., 0., 0.],\n",
       "       [0., 0., 0., 0., 0.]])"
      ]
     },
     "execution_count": 40,
     "metadata": {},
     "output_type": "execute_result"
    }
   ],
   "source": [
    "import numpy as np\n",
    "np_arr= np.zeros((5,5))\n",
    "np_arr"
   ]
  },
  {
   "cell_type": "code",
   "execution_count": 41,
   "id": "e23ba25a",
   "metadata": {},
   "outputs": [
    {
     "data": {
      "text/plain": [
       "tensor([[0., 0., 0., 0., 0.],\n",
       "        [0., 0., 0., 0., 0.],\n",
       "        [0., 0., 0., 0., 0.],\n",
       "        [0., 0., 0., 0., 0.],\n",
       "        [0., 0., 0., 0., 0.]], dtype=torch.float64)"
      ]
     },
     "execution_count": 41,
     "metadata": {},
     "output_type": "execute_result"
    }
   ],
   "source": [
    "tensor = torch.from_numpy(np_arr)\n",
    "tensor"
   ]
  },
  {
   "cell_type": "code",
   "execution_count": 42,
   "id": "dd8793a6",
   "metadata": {},
   "outputs": [
    {
     "data": {
      "text/plain": [
       "array([[0., 0., 0., 0., 0.],\n",
       "       [0., 0., 0., 0., 0.],\n",
       "       [0., 0., 0., 0., 0.],\n",
       "       [0., 0., 0., 0., 0.],\n",
       "       [0., 0., 0., 0., 0.]])"
      ]
     },
     "execution_count": 42,
     "metadata": {},
     "output_type": "execute_result"
    }
   ],
   "source": [
    "np_back_arr=tensor.numpy()\n",
    "np_back_arr"
   ]
  },
  {
   "cell_type": "markdown",
   "id": "4a61903e",
   "metadata": {},
   "source": [
    "# Tensor Math"
   ]
  },
  {
   "cell_type": "code",
   "execution_count": 46,
   "id": "fc419e91",
   "metadata": {},
   "outputs": [
    {
     "name": "stdout",
     "output_type": "stream",
     "text": [
      "tensor([10., 10., 10.]) torch.float32\n"
     ]
    }
   ],
   "source": [
    "x = torch.tensor([1,2,3])\n",
    "y = torch.tensor([9,8,7])\n",
    "# add\n",
    "z1 = torch.empty(3)\n",
    "torch.add(x,y,out=z1)\n",
    "print(z1,z1.dtype)"
   ]
  },
  {
   "cell_type": "code",
   "execution_count": 47,
   "id": "3ede00f4",
   "metadata": {},
   "outputs": [
    {
     "data": {
      "text/plain": [
       "(tensor([10, 10, 10]), torch.int64)"
      ]
     },
     "execution_count": 47,
     "metadata": {},
     "output_type": "execute_result"
    }
   ],
   "source": [
    "z2 = torch.add(x,y)\n",
    "z2,z2.dtype"
   ]
  },
  {
   "cell_type": "code",
   "execution_count": 48,
   "id": "28dc0ccc",
   "metadata": {},
   "outputs": [
    {
     "data": {
      "text/plain": [
       "tensor([0.1111, 0.2500, 0.4286])"
      ]
     },
     "execution_count": 48,
     "metadata": {},
     "output_type": "execute_result"
    }
   ],
   "source": [
    "# minus\n",
    "z3 = x-y\n",
    "# div\n",
    "z4 = torch.true_divide(x,y) #element wise div if of equal shape\n",
    "z4"
   ]
  },
  {
   "cell_type": "code",
   "execution_count": 49,
   "id": "41ce9b6e",
   "metadata": {},
   "outputs": [
    {
     "name": "stdout",
     "output_type": "stream",
     "text": [
      "tensor([1., 2., 3.])\n",
      "tensor([10., 10., 10.])\n"
     ]
    }
   ],
   "source": [
    "# inplace ops\n",
    "t = torch.zeros(3)\n",
    "t.add_(x) #to perform inplace ops add _ next to it\n",
    "print(t)\n",
    "t +=y\n",
    "print(t)"
   ]
  },
  {
   "cell_type": "code",
   "execution_count": 50,
   "id": "c06a9880",
   "metadata": {},
   "outputs": [
    {
     "data": {
      "text/plain": [
       "tensor([1, 4, 9])"
      ]
     },
     "execution_count": 50,
     "metadata": {},
     "output_type": "execute_result"
    }
   ],
   "source": [
    "# exp\n",
    "z = x.pow(2)\n",
    "z"
   ]
  },
  {
   "cell_type": "code",
   "execution_count": 51,
   "id": "f8517e43",
   "metadata": {},
   "outputs": [
    {
     "data": {
      "text/plain": [
       "tensor([True, True, True])"
      ]
     },
     "execution_count": 51,
     "metadata": {},
     "output_type": "execute_result"
    }
   ],
   "source": [
    "# comparison\n",
    "z = x>0\n",
    "z"
   ]
  },
  {
   "cell_type": "code",
   "execution_count": 52,
   "id": "5a5a4edd",
   "metadata": {},
   "outputs": [
    {
     "data": {
      "text/plain": [
       "tensor([False, False, False])"
      ]
     },
     "execution_count": 52,
     "metadata": {},
     "output_type": "execute_result"
    }
   ],
   "source": [
    "z=x<0\n",
    "z"
   ]
  },
  {
   "cell_type": "code",
   "execution_count": 61,
   "id": "c03e2e15",
   "metadata": {},
   "outputs": [],
   "source": [
    "# matmul\n",
    "x1=torch.rand((5,5))\n",
    "x2=torch.rand((2,5))\n"
   ]
  },
  {
   "cell_type": "code",
   "execution_count": 62,
   "id": "5da341d6",
   "metadata": {},
   "outputs": [
    {
     "data": {
      "text/plain": [
       "tensor([[0.8419, 0.4973, 0.2199, 0.5052, 1.1100],\n",
       "        [1.3150, 0.9877, 0.5900, 1.0529, 1.4712]])"
      ]
     },
     "execution_count": 62,
     "metadata": {},
     "output_type": "execute_result"
    }
   ],
   "source": [
    "z = torch.mm(x2,x1)\n",
    "z"
   ]
  },
  {
   "cell_type": "code",
   "execution_count": 63,
   "id": "5d2f939b",
   "metadata": {},
   "outputs": [
    {
     "data": {
      "text/plain": [
       "tensor([[0.8419, 0.4973, 0.2199, 0.5052, 1.1100],\n",
       "        [1.3150, 0.9877, 0.5900, 1.0529, 1.4712]])"
      ]
     },
     "execution_count": 63,
     "metadata": {},
     "output_type": "execute_result"
    }
   ],
   "source": [
    "z = x2.mm(x1)\n",
    "z"
   ]
  },
  {
   "cell_type": "code",
   "execution_count": 66,
   "id": "3ac48dcc",
   "metadata": {},
   "outputs": [
    {
     "data": {
      "text/plain": [
       "tensor([[1.9110, 1.8325, 1.9540, 1.4696, 0.9139],\n",
       "        [1.8131, 1.7378, 1.6077, 1.0749, 0.7749],\n",
       "        [1.6260, 1.7577, 1.5402, 1.0704, 0.8047],\n",
       "        [1.6257, 1.9847, 1.9196, 1.6145, 1.2190],\n",
       "        [1.5005, 1.7046, 1.4367, 0.9821, 0.8368]])"
      ]
     },
     "execution_count": 66,
     "metadata": {},
     "output_type": "execute_result"
    }
   ],
   "source": [
    "# matrix exp\n",
    "matrix_exp = torch.rand((5,5))\n",
    "matrix_exp.matrix_power(2)"
   ]
  },
  {
   "cell_type": "code",
   "execution_count": 68,
   "id": "c5a773d1",
   "metadata": {},
   "outputs": [
    {
     "data": {
      "text/plain": [
       "tensor([[0.7275, 0.3049, 0.7322, 0.3694, 0.0028],\n",
       "        [0.6702, 0.5229, 0.3530, 0.0377, 0.0695],\n",
       "        [0.4126, 0.5392, 0.1148, 0.0674, 0.3158],\n",
       "        [0.0729, 0.2227, 0.9374, 0.9871, 0.1247],\n",
       "        [0.1135, 0.7937, 0.1120, 0.1162, 0.2756]])"
      ]
     },
     "execution_count": 68,
     "metadata": {},
     "output_type": "execute_result"
    }
   ],
   "source": [
    "matrix_exp.pow(2)"
   ]
  },
  {
   "cell_type": "code",
   "execution_count": 70,
   "id": "80baa102",
   "metadata": {},
   "outputs": [
    {
     "data": {
      "text/plain": [
       "tensor(46)"
      ]
     },
     "execution_count": 70,
     "metadata": {},
     "output_type": "execute_result"
    }
   ],
   "source": [
    "x.dot(y)"
   ]
  },
  {
   "cell_type": "markdown",
   "id": "6cb9848c",
   "metadata": {},
   "source": [
    "# Batch matrix mul"
   ]
  },
  {
   "cell_type": "code",
   "execution_count": 71,
   "id": "252d7bbd",
   "metadata": {},
   "outputs": [],
   "source": [
    "batch = 32\n",
    "n=10\n",
    "m=20\n",
    "p=30\n",
    "tensor1=torch.rand((batch,n,m))\n",
    "tensor2=torch.rand((batch,m,p))\n",
    "out_bmm = tensor1.bmm(tensor2)"
   ]
  },
  {
   "cell_type": "code",
   "execution_count": 73,
   "id": "3207535b",
   "metadata": {},
   "outputs": [
    {
     "data": {
      "text/plain": [
       "torch.Size([32, 10, 30])"
      ]
     },
     "execution_count": 73,
     "metadata": {},
     "output_type": "execute_result"
    }
   ],
   "source": [
    "out_bmm.shape"
   ]
  },
  {
   "cell_type": "markdown",
   "id": "2735045b",
   "metadata": {},
   "source": [
    "# Broadcasting"
   ]
  },
  {
   "cell_type": "code",
   "execution_count": 74,
   "id": "a6b1b449",
   "metadata": {},
   "outputs": [],
   "source": [
    "x1 = torch.rand((5,5))\n",
    "x2 = torch.rand((1,5))\n",
    "z= x1-x2\n"
   ]
  },
  {
   "cell_type": "markdown",
   "id": "508eb940",
   "metadata": {},
   "source": [
    "# Tensor indexing"
   ]
  },
  {
   "cell_type": "code",
   "execution_count": 76,
   "id": "40eabd60",
   "metadata": {},
   "outputs": [
    {
     "data": {
      "text/plain": [
       "torch.Size([25])"
      ]
     },
     "execution_count": 76,
     "metadata": {},
     "output_type": "execute_result"
    }
   ],
   "source": [
    "features = 25\n",
    "x = torch.rand((batch,features))\n",
    "x[0,:].shape"
   ]
  },
  {
   "cell_type": "code",
   "execution_count": 80,
   "id": "fd8ee38c",
   "metadata": {},
   "outputs": [
    {
     "data": {
      "text/plain": [
       "tensor([0.1503, 0.5392, 0.1558, 0.7343, 0.5572, 0.5679, 0.5668, 0.0590, 0.5395,\n",
       "        0.1053, 0.1611, 0.5076, 0.0249, 0.3401, 0.0041, 0.0842, 0.6350, 0.9701,\n",
       "        0.7889, 0.5110, 0.9249, 0.5071, 0.4058, 0.5778, 0.6356, 0.5936, 0.9608,\n",
       "        0.2069, 0.8310, 0.8969, 0.5772, 0.7901])"
      ]
     },
     "execution_count": 80,
     "metadata": {},
     "output_type": "execute_result"
    }
   ],
   "source": [
    "x[:,1]"
   ]
  },
  {
   "cell_type": "code",
   "execution_count": 81,
   "id": "1783b955",
   "metadata": {},
   "outputs": [
    {
     "data": {
      "text/plain": [
       "tensor([0.5391, 0.4097, 0.6481, 0.3493, 0.2760, 0.9153, 0.6581, 0.8090, 0.9548,\n",
       "        0.8607])"
      ]
     },
     "execution_count": 81,
     "metadata": {},
     "output_type": "execute_result"
    }
   ],
   "source": [
    "x[:10,2]"
   ]
  },
  {
   "cell_type": "code",
   "execution_count": 83,
   "id": "4c46bdee",
   "metadata": {},
   "outputs": [
    {
     "name": "stdout",
     "output_type": "stream",
     "text": [
      "tensor([1, 2, 5])\n"
     ]
    }
   ],
   "source": [
    "x = torch.arange(10)\n",
    "indices = [1,2,5]\n",
    "print(x[indices])"
   ]
  },
  {
   "cell_type": "code",
   "execution_count": 89,
   "id": "51879e8a",
   "metadata": {},
   "outputs": [
    {
     "name": "stdout",
     "output_type": "stream",
     "text": [
      "tensor([0, 1, 6, 7, 8, 9])\n"
     ]
    }
   ],
   "source": [
    "print(x[(x<2) != (x>5)])"
   ]
  },
  {
   "cell_type": "code",
   "execution_count": 92,
   "id": "307ba067",
   "metadata": {},
   "outputs": [
    {
     "data": {
      "text/plain": [
       "tensor([0, 2, 4, 6, 8])"
      ]
     },
     "execution_count": 92,
     "metadata": {},
     "output_type": "execute_result"
    }
   ],
   "source": [
    "x[x.remainder(2)==0]"
   ]
  },
  {
   "cell_type": "code",
   "execution_count": 93,
   "id": "2d8aa331",
   "metadata": {},
   "outputs": [
    {
     "data": {
      "text/plain": [
       "tensor([0, 2, 4, 6, 8, 4, 5, 6, 7, 8])"
      ]
     },
     "execution_count": 93,
     "metadata": {},
     "output_type": "execute_result"
    }
   ],
   "source": [
    "torch.where(x>4,x-1,x*2) #where x>4 set x-1 other wise do x*2"
   ]
  },
  {
   "cell_type": "code",
   "execution_count": 94,
   "id": "301f1b29",
   "metadata": {},
   "outputs": [
    {
     "data": {
      "text/plain": [
       "10"
      ]
     },
     "execution_count": 94,
     "metadata": {},
     "output_type": "execute_result"
    }
   ],
   "source": [
    "x.numel()"
   ]
  },
  {
   "cell_type": "markdown",
   "id": "ba7a254b",
   "metadata": {},
   "source": [
    "# tensor reshapeing"
   ]
  },
  {
   "cell_type": "code",
   "execution_count": 104,
   "id": "6bc0b363",
   "metadata": {},
   "outputs": [],
   "source": [
    "x = torch.arange(15)\n",
    "x_3x5 = x.view((3,5)) # for contiguous tensors means which are\\contiguously stored in memroy"
   ]
  },
  {
   "cell_type": "code",
   "execution_count": 105,
   "id": "1766776f",
   "metadata": {},
   "outputs": [
    {
     "data": {
      "text/plain": [
       "tensor([[ 0,  1,  2,  3,  4],\n",
       "        [ 5,  6,  7,  8,  9],\n",
       "        [10, 11, 12, 13, 14]])"
      ]
     },
     "execution_count": 105,
     "metadata": {},
     "output_type": "execute_result"
    }
   ],
   "source": [
    "x_3x5"
   ]
  },
  {
   "cell_type": "code",
   "execution_count": 97,
   "id": "fe5ff1a2",
   "metadata": {},
   "outputs": [
    {
     "data": {
      "text/plain": [
       "tensor([[0, 1],\n",
       "        [2, 3],\n",
       "        [4, 5],\n",
       "        [6, 7],\n",
       "        [8, 9]])"
      ]
     },
     "execution_count": 97,
     "metadata": {},
     "output_type": "execute_result"
    }
   ],
   "source": [
    "x_5x2 = x.reshape((5,2))\n",
    "x_5x2"
   ]
  },
  {
   "cell_type": "code",
   "execution_count": 106,
   "id": "29fb467d",
   "metadata": {},
   "outputs": [
    {
     "data": {
      "text/plain": [
       "tensor([[ 0,  5, 10],\n",
       "        [ 1,  6, 11],\n",
       "        [ 2,  7, 12],\n",
       "        [ 3,  8, 13],\n",
       "        [ 4,  9, 14]])"
      ]
     },
     "execution_count": 106,
     "metadata": {},
     "output_type": "execute_result"
    }
   ],
   "source": [
    "y = x_2x5.t()\n",
    "y"
   ]
  },
  {
   "cell_type": "code",
   "execution_count": null,
   "id": "ef9345c8",
   "metadata": {},
   "outputs": [],
   "source": []
  }
 ],
 "metadata": {
  "kernelspec": {
   "display_name": "Python 3 (ipykernel)",
   "language": "python",
   "name": "python3"
  },
  "language_info": {
   "codemirror_mode": {
    "name": "ipython",
    "version": 3
   },
   "file_extension": ".py",
   "mimetype": "text/x-python",
   "name": "python",
   "nbconvert_exporter": "python",
   "pygments_lexer": "ipython3",
   "version": "3.9.16"
  }
 },
 "nbformat": 4,
 "nbformat_minor": 5
}
